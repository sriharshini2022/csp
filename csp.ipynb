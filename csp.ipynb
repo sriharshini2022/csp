{
  "nbformat": 4,
  "nbformat_minor": 0,
  "metadata": {
    "colab": {
      "provenance": []
    },
    "kernelspec": {
      "name": "python3",
      "display_name": "Python 3"
    },
    "language_info": {
      "name": "python"
    }
  },
  "cells": [
    {
      "cell_type": "code",
      "execution_count": null,
      "metadata": {
        "colab": {
          "base_uri": "https://localhost:8080/"
        },
        "id": "VqJR13vd32rD",
        "outputId": "5dea77b7-f99f-4855-d62f-0fc042fb9678"
      },
      "outputs": [
        {
          "output_type": "stream",
          "name": "stdout",
          "text": [
            "Loratadine\n",
            "Predicted disposal method for Loratadine: Avoid Flushing\n"
          ]
        }
      ],
      "source": [
        "\n",
        "import pandas as pd\n",
        "from sklearn.model_selection import train_test_split\n",
        "from sklearn.feature_extraction.text import TfidfVectorizer\n",
        "from sklearn.linear_model import LogisticRegression\n",
        "from sklearn.metrics import accuracy_score, classification_report\n",
        "data = {\n",
        "    'Ingredient Name': ['Acetaminophen', 'Ibuprofen', 'Aspirin', 'Pseudoephedrine',\n",
        "                       'Diphenhydramine', 'Loratadine', 'Cetirizine', 'Famotidine',\n",
        "                       'Omeprazole', 'Simvastatin', 'Atorvastatin', 'Metformin',\n",
        "                       'Glipizide', 'Lisinopril', 'Hydrochlorothiazide', 'Amlodipine',\n",
        "                       'Warfarin', 'Levothyroxine', 'Albuterol', 'Salbutamol'],\n",
        "    'Chemical Composition': ['C8H9NO2', 'C13H18O2', 'C9H8O4', 'C10H15NO',\n",
        "                             'C17H21NO', 'C22H23ClN2O2', 'C21H25ClN2O3', 'C13H14N4O3S',\n",
        "                             'C17H19N3O3S', 'C25H38O5', 'C33H35FN2O6', 'C4H11N5O',\n",
        "                             'C17H21N3O4S', 'C21H31N3O5', 'C7H8ClN3O4S', 'C20H25ClN2O5',\n",
        "                             'C19H16O4', 'C15H11I4NO4', 'C13H21NO3', 'C13H21NO3'],\n",
        "    'Disposal Method': ['Household Trash', 'Household Trash', 'Household Trash', 'Avoid Flushing',\n",
        "                        'Avoid Flushing', 'Household Trash', 'Household Trash', 'Avoid Flushing',\n",
        "                        'Avoid Flushing', 'Avoid Flushing', 'Avoid Flushing', 'Avoid Flushing',\n",
        "                        'Avoid Flushing', 'Avoid Flushing', 'Avoid Flushing', 'Avoid Flushing',\n",
        "                        'Avoid Flushing', 'Avoid Flushing', 'Avoid Flushing', 'Avoid Flushing']\n",
        "}\n",
        "\n",
        "df = pd.DataFrame(data)\n",
        "\n",
        "# Preprocess the data\n",
        "X = df['Chemical Composition']\n",
        "y = df['Disposal Method']\n",
        "\n",
        "# Split the data into training and testing sets\n",
        "X_train, X_test, y_train, y_test = train_test_split(X, y, test_size=0.2, random_state=42)\n",
        "\n",
        "# Feature extraction using TF-IDF\n",
        "vectorizer = TfidfVectorizer()\n",
        "X_train_vec = vectorizer.fit_transform(X_train)\n",
        "X_test_vec = vectorizer.transform(X_test)\n",
        "\n",
        "# Train a logistic regression model\n",
        "model = LogisticRegression()\n",
        "model.fit(X_train_vec, y_train)\n",
        "\n",
        "# Make predictions on the test set\n",
        "y_pred = model.predict(X_test_vec)\n",
        "\n",
        "# Example prediction for a new ingredient\n",
        "new_ingredient_composition = input()\n",
        "new_ingredient_vec = vectorizer.transform([new_ingredient_composition])\n",
        "predicted_disposal = model.predict(new_ingredient_vec)[0]\n",
        "print(f\"Predicted disposal method for {new_ingredient_composition}: {predicted_disposal}\")\n"
      ]
    }
  ]
}